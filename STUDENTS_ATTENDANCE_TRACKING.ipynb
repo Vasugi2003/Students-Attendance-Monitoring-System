{
  "cells": [
    {
      "cell_type": "markdown",
      "metadata": {
        "id": "view-in-github",
        "colab_type": "text"
      },
      "source": [
        "<a href=\"https://colab.research.google.com/github/Vasugi2003/Students-Attendance-Monitoring-System/blob/main/STUDENTS_ATTENDANCE_TRACKING.ipynb\" target=\"_parent\"><img src=\"https://colab.research.google.com/assets/colab-badge.svg\" alt=\"Open In Colab\"/></a>"
      ]
    },
    {
      "cell_type": "code",
      "execution_count": null,
      "id": "4225eb0b",
      "metadata": {
        "id": "4225eb0b",
        "outputId": "ee23fe0b-b3d5-410f-8354-edc05e7c54bd"
      },
      "outputs": [
        {
          "name": "stdout",
          "output_type": "stream",
          "text": [
            "Requirement already satisfied: opencv-python in c:\\users\\rithanya\\anaconda3\\anaconda\\lib\\site-packages (4.7.0.68)\n",
            "Requirement already satisfied: numpy>=1.17.0 in c:\\users\\rithanya\\appdata\\roaming\\python\\python39\\site-packages (from opencv-python) (1.24.4)\n"
          ]
        },
        {
          "name": "stderr",
          "output_type": "stream",
          "text": [
            "\n",
            "[notice] A new release of pip is available: 23.2.1 -> 23.3.1\n",
            "[notice] To update, run: python.exe -m pip install --upgrade pip\n"
          ]
        }
      ],
      "source": [
        "!pip install opencv-python"
      ]
    },
    {
      "cell_type": "code",
      "execution_count": null,
      "id": "e139b1c6",
      "metadata": {
        "id": "e139b1c6"
      },
      "outputs": [],
      "source": [
        "import cv2"
      ]
    },
    {
      "cell_type": "code",
      "execution_count": null,
      "id": "99aa4817",
      "metadata": {
        "id": "99aa4817",
        "outputId": "a0013554-7060-46ec-d982-9a3a2eda02dd"
      },
      "outputs": [
        {
          "name": "stdout",
          "output_type": "stream",
          "text": [
            "Microsoft Windows [Version 10.0.19045.3570]\r\n",
            "(c) Microsoft Corporation. All rights reserved.\r\n",
            "\r\n",
            "C:\\Users\\RITHANYA>where python\n",
            "C:\\Users\\RITHANYA\\anaconda3\\anaconda\\python.exe\r\n",
            "C:\\Python311\\python.exe\r\n",
            "C:\\Users\\RITHANYA\\anaconda3\\python.exe\r\n",
            "C:\\Users\\RITHANYA\\AppData\\Local\\Microsoft\\WindowsApps\\python.exe\r\n",
            "\r\n",
            "C:\\Users\\RITHANYA>"
          ]
        }
      ],
      "source": [
        "%%cmd\n",
        "where python"
      ]
    },
    {
      "cell_type": "code",
      "execution_count": null,
      "id": "dc12dea8",
      "metadata": {
        "id": "dc12dea8",
        "outputId": "7302b26f-5e22-4895-b662-fb5ec946e0a2"
      },
      "outputs": [
        {
          "name": "stdout",
          "output_type": "stream",
          "text": [
            "Microsoft Windows [Version 10.0.19045.3570]\r\n",
            "(c) Microsoft Corporation. All rights reserved.\r\n",
            "\r\n",
            "C:\\Users\\RITHANYA>pip install face-recognition\n",
            "Requirement already satisfied: face-recognition in c:\\users\\rithanya\\anaconda3\\anaconda\\lib\\site-packages (1.3.0)\r\n",
            "Requirement already satisfied: face-recognition-models>=0.3.0 in c:\\users\\rithanya\\anaconda3\\anaconda\\lib\\site-packages (from face-recognition) (0.3.0)\r\n",
            "Requirement already satisfied: Click>=6.0 in c:\\users\\rithanya\\anaconda3\\anaconda\\lib\\site-packages (from face-recognition) (8.0.4)\r\n",
            "Requirement already satisfied: dlib>=19.7 in c:\\users\\rithanya\\anaconda3\\anaconda\\lib\\site-packages (from face-recognition) (19.22.99)\r\n",
            "Requirement already satisfied: numpy in c:\\users\\rithanya\\appdata\\roaming\\python\\python39\\site-packages (from face-recognition) (1.24.4)\r\n",
            "Requirement already satisfied: Pillow in c:\\users\\rithanya\\anaconda3\\anaconda\\lib\\site-packages (from face-recognition) (9.2.0)\r\n",
            "Requirement already satisfied: colorama in c:\\users\\rithanya\\anaconda3\\anaconda\\lib\\site-packages (from Click>=6.0->face-recognition) (0.4.5)\r\n",
            "\r\n",
            "C:\\Users\\RITHANYA>"
          ]
        },
        {
          "name": "stderr",
          "output_type": "stream",
          "text": [
            "\r\n",
            "[notice] A new release of pip is available: 23.2.1 -> 23.3.1\r\n",
            "[notice] To update, run: python.exe -m pip install --upgrade pip\r\n"
          ]
        }
      ],
      "source": [
        "%%cmd\n",
        "pip install face-recognition\n"
      ]
    },
    {
      "cell_type": "code",
      "execution_count": null,
      "id": "886c04a1",
      "metadata": {
        "id": "886c04a1",
        "outputId": "8bd56fc3-d99b-4e07-def8-3ca2830c20b4"
      },
      "outputs": [
        {
          "name": "stdout",
          "output_type": "stream",
          "text": [
            "Microsoft Windows [Version 10.0.19045.3570]\r\n",
            "(c) Microsoft Corporation. All rights reserved.\r\n",
            "\r\n",
            "C:\\Users\\RITHANYA>pip install cmake\n",
            "Requirement already satisfied: cmake in c:\\users\\rithanya\\anaconda3\\anaconda\\lib\\site-packages (3.27.1)\r\n",
            "\r\n",
            "C:\\Users\\RITHANYA>"
          ]
        },
        {
          "name": "stderr",
          "output_type": "stream",
          "text": [
            "\r\n",
            "[notice] A new release of pip is available: 23.2.1 -> 23.3.1\r\n",
            "[notice] To update, run: python.exe -m pip install --upgrade pip\r\n"
          ]
        }
      ],
      "source": [
        "%%cmd\n",
        "pip install cmake"
      ]
    },
    {
      "cell_type": "code",
      "execution_count": null,
      "id": "e897f026",
      "metadata": {
        "id": "e897f026",
        "outputId": "0c10cf88-4a8f-42be-db66-5a3f4dd703b3"
      },
      "outputs": [
        {
          "name": "stdout",
          "output_type": "stream",
          "text": [
            "Microsoft Windows [Version 10.0.19045.3570]\r\n",
            "(c) Microsoft Corporation. All rights reserved.\r\n",
            "\r\n",
            "C:\\Users\\RITHANYA>python --version\n",
            "Python 3.9.13\r\n",
            "\r\n",
            "C:\\Users\\RITHANYA>"
          ]
        }
      ],
      "source": [
        "%%cmd\n",
        "python --version"
      ]
    },
    {
      "cell_type": "code",
      "execution_count": null,
      "id": "a7f80190",
      "metadata": {
        "id": "a7f80190",
        "outputId": "09d45962-fd1f-49dc-b603-efef8f4071b3"
      },
      "outputs": [
        {
          "name": "stdout",
          "output_type": "stream",
          "text": [
            "Microsoft Windows [Version 10.0.19045.3570]\r\n",
            "(c) Microsoft Corporation. All rights reserved.\r\n",
            "\r\n",
            "C:\\Users\\RITHANYA>pip install \"C:\\Users\\RITHANYA\\OneDrive\\Desktop\\dlib-19.22.99-cp39-cp39-win_amd64.whl\"\n",
            "Processing c:\\users\\rithanya\\onedrive\\desktop\\dlib-19.22.99-cp39-cp39-win_amd64.whl\r\n",
            "dlib is already installed with the same version as the provided wheel. Use --force-reinstall to force an installation of the wheel.\r\n",
            "\r\n",
            "C:\\Users\\RITHANYA>"
          ]
        },
        {
          "name": "stderr",
          "output_type": "stream",
          "text": [
            "\r\n",
            "[notice] A new release of pip is available: 23.2.1 -> 23.3.1\r\n",
            "[notice] To update, run: python.exe -m pip install --upgrade pip\r\n"
          ]
        }
      ],
      "source": [
        "%%cmd\n",
        "pip install \"C:\\Users\\RITHANYA\\OneDrive\\Desktop\\dlib-19.22.99-cp39-cp39-win_amd64.whl\""
      ]
    },
    {
      "cell_type": "code",
      "execution_count": null,
      "id": "a436efa4",
      "metadata": {
        "id": "a436efa4",
        "outputId": "240d004f-3159-440d-e177-e14517d8348c"
      },
      "outputs": [
        {
          "name": "stdout",
          "output_type": "stream",
          "text": [
            "Microsoft Windows [Version 10.0.19045.3570]\r\n",
            "(c) Microsoft Corporation. All rights reserved.\r\n",
            "\r\n",
            "C:\\Users\\RITHANYA>pip install face-recognition\n",
            "Requirement already satisfied: face-recognition in c:\\users\\rithanya\\anaconda3\\anaconda\\lib\\site-packages (1.3.0)\r\n",
            "Requirement already satisfied: face-recognition-models>=0.3.0 in c:\\users\\rithanya\\anaconda3\\anaconda\\lib\\site-packages (from face-recognition) (0.3.0)\r\n",
            "Requirement already satisfied: Click>=6.0 in c:\\users\\rithanya\\anaconda3\\anaconda\\lib\\site-packages (from face-recognition) (8.0.4)\r\n",
            "Requirement already satisfied: dlib>=19.7 in c:\\users\\rithanya\\anaconda3\\anaconda\\lib\\site-packages (from face-recognition) (19.22.99)\r\n",
            "Requirement already satisfied: numpy in c:\\users\\rithanya\\appdata\\roaming\\python\\python39\\site-packages (from face-recognition) (1.24.4)\r\n",
            "Requirement already satisfied: Pillow in c:\\users\\rithanya\\anaconda3\\anaconda\\lib\\site-packages (from face-recognition) (9.2.0)\r\n",
            "Requirement already satisfied: colorama in c:\\users\\rithanya\\anaconda3\\anaconda\\lib\\site-packages (from Click>=6.0->face-recognition) (0.4.5)\r\n",
            "\r\n",
            "C:\\Users\\RITHANYA>"
          ]
        },
        {
          "name": "stderr",
          "output_type": "stream",
          "text": [
            "\r\n",
            "[notice] A new release of pip is available: 23.2.1 -> 23.3.1\r\n",
            "[notice] To update, run: python.exe -m pip install --upgrade pip\r\n"
          ]
        }
      ],
      "source": [
        "%%cmd\n",
        "pip install face-recognition"
      ]
    },
    {
      "cell_type": "code",
      "execution_count": null,
      "id": "f73fd5e7",
      "metadata": {
        "id": "f73fd5e7"
      },
      "outputs": [],
      "source": []
    },
    {
      "cell_type": "code",
      "execution_count": null,
      "id": "bd71c05d",
      "metadata": {
        "id": "bd71c05d"
      },
      "outputs": [],
      "source": []
    },
    {
      "cell_type": "code",
      "execution_count": null,
      "id": "152dda85",
      "metadata": {
        "id": "152dda85"
      },
      "outputs": [],
      "source": []
    },
    {
      "cell_type": "code",
      "execution_count": null,
      "id": "9bd249bf",
      "metadata": {
        "id": "9bd249bf"
      },
      "outputs": [],
      "source": []
    },
    {
      "cell_type": "code",
      "execution_count": null,
      "id": "c2989d18",
      "metadata": {
        "id": "c2989d18"
      },
      "outputs": [],
      "source": []
    },
    {
      "cell_type": "code",
      "execution_count": null,
      "id": "14e6d889",
      "metadata": {
        "id": "14e6d889"
      },
      "outputs": [],
      "source": []
    },
    {
      "cell_type": "code",
      "execution_count": null,
      "id": "f8d9a50b",
      "metadata": {
        "id": "f8d9a50b"
      },
      "outputs": [],
      "source": []
    },
    {
      "cell_type": "code",
      "execution_count": null,
      "id": "7091aacf",
      "metadata": {
        "id": "7091aacf"
      },
      "outputs": [],
      "source": []
    },
    {
      "cell_type": "code",
      "execution_count": null,
      "id": "39ef1401",
      "metadata": {
        "id": "39ef1401",
        "outputId": "7730dbe3-d6d9-4e4d-8a3f-c41141650cd4"
      },
      "outputs": [
        {
          "name": "stdout",
          "output_type": "stream",
          "text": [
            "13 encoding images found.\n",
            "Encoding images loaded\n"
          ]
        }
      ],
      "source": [
        "import cv2\n",
        "import face_recognition\n",
        "import os\n",
        "import glob\n",
        "import numpy as np\n",
        "import csv\n",
        "import datetime  # Import the datetime module\n",
        "\n",
        "class SimpleFacerec:\n",
        "    def __init__(self):\n",
        "        self.known_face_encodings = []\n",
        "        self.known_face_names = []\n",
        "\n",
        "        # Resize frame for a faster speed\n",
        "        self.frame_resizing = 0.25\n",
        "\n",
        "    def load_encoding_images(self, images_path):\n",
        "        \"\"\"\n",
        "        Load encoding images from path\n",
        "        :param images_path:\n",
        "        :return:\n",
        "        \"\"\"\n",
        "        # Load Images\n",
        "        images_path = glob.glob(os.path.join(images_path, \"*.*\"))\n",
        "\n",
        "        print(\"{} encoding images found.\".format(len(images_path)))\n",
        "\n",
        "        # Store image encoding and names\n",
        "        for img_path in images_path:\n",
        "            img = cv2.imread(img_path)\n",
        "            rgb_img = cv2.cvtColor(img, cv2.COLOR_BGR2RGB)\n",
        "\n",
        "            # Get the filename only from the initial file path.\n",
        "            basename = os.path.basename(img_path)\n",
        "            (filename, ext) = os.path.splitext(basename)\n",
        "            # Get encoding\n",
        "            img_encoding = face_recognition.face_encodings(rgb_img)[0]\n",
        "\n",
        "            # Store file name and file encoding\n",
        "            self.known_face_encodings.append(img_encoding)\n",
        "            self.known_face_names.append(filename)\n",
        "        print(\"Encoding images loaded\")\n",
        "\n",
        "    def detect_known_faces(self, frame):\n",
        "        small_frame = cv2.resize(frame, (0, 0), fx=self.frame_resizing, fy=self.frame_resizing)\n",
        "        # Find all the faces and face encodings in the current frame of video\n",
        "        # Convert the image from BGR color (which OpenCV uses) to RGB color (which face_recognition uses)\n",
        "        rgb_small_frame = cv2.cvtColor(small_frame, cv2.COLOR_BGR2RGB)\n",
        "        face_locations = face_recognition.face_locations(rgb_small_frame)\n",
        "        face_encodings = face_recognition.face_encodings(rgb_small_frame, face_locations)\n",
        "\n",
        "        face_names = []\n",
        "        for face_encoding in face_encodings:\n",
        "            # See if the face is a match for the known face(s)\n",
        "            matches = face_recognition.compare_faces(self.known_face_encodings, face_encoding)\n",
        "            name = \"Unknown\"\n",
        "\n",
        "            # Or instead, use the known face with the smallest distance to the new face\n",
        "            face_distances = face_recognition.face_distance(self.known_face_encodings, face_encoding)\n",
        "            best_match_index = np.argmin(face_distances)\n",
        "            if matches[best_match_index]:\n",
        "                name = self.known_face_names[best_match_index]\n",
        "            face_names.append(name)\n",
        "\n",
        "        # Convert to numpy array to adjust coordinates with frame resizing quickly\n",
        "        face_locations = np.array(face_locations)\n",
        "        face_locations = face_locations / self.frame_resizing\n",
        "        return face_locations.astype(int), face_names\n",
        "\n",
        "    # ... (rest of the class remains the same)\n",
        "\n",
        "# Create an instance of SimpleFacerec\n",
        "sfr = SimpleFacerec()\n",
        "sfr.load_encoding_images(\"C:/Users/RITHANYA/OneDrive/Desktop/SPARK/images\")\n",
        "\n",
        "cap1 = cv2.VideoCapture(\"C:/Users/RITHANYA/OneDrive/Desktop/SPARK/camera2.mp4\")  # Update with actual path\n",
        "cap2 = cv2.VideoCapture(\"C:/Users/RITHANYA/OneDrive/Desktop/SPARK/final.mp4\")  # Update with actual path\n",
        "\n",
        "if not cap1.isOpened() or not cap2.isOpened():\n",
        "    print(\"Error opening video files.\")\n",
        "    exit()\n",
        "\n",
        "# Initialize the CSV file and write headers\n",
        "csv_filename = \"detected_faces.csv\"\n",
        "with open(csv_filename, \"w\", newline=\"\") as csvfile:\n",
        "    csv_writer = csv.writer(csvfile)\n",
        "    csv_writer.writerow([\"Timestamp\", \"Name\", \"Camera\"])\n",
        "\n",
        "while True:\n",
        "    ret1, frame1 = cap1.read()\n",
        "    ret2, frame2 = cap2.read()\n",
        "\n",
        "    if not ret1 or not ret2:\n",
        "        if cap1.isOpened() and cap2.isOpened():\n",
        "            print(\"Error reading frames.\")\n",
        "        else:\n",
        "            print(\"End of videos.\")\n",
        "        break\n",
        "\n",
        "    face_locations1, face_names1 = sfr.detect_known_faces(frame1)\n",
        "    face_locations2, face_names2 = sfr.detect_known_faces(frame2)\n",
        "\n",
        "    # Get the current timestamp\n",
        "    current_timestamp = datetime.datetime.now().strftime(\"%Y-%m-%d %H:%M:%S\")\n",
        "\n",
        "    with open(csv_filename, \"a\", newline=\"\") as csvfile:\n",
        "        csv_writer = csv.writer(csvfile)\n",
        "        for name in face_names1:\n",
        "            csv_writer.writerow([current_timestamp, name, \"camera1\"])\n",
        "        for name in face_names2:\n",
        "            csv_writer.writerow([current_timestamp, name, \"camera2\"])\n",
        "\n",
        "    for face_loc, name in zip(face_locations1, face_names1):\n",
        "        y1, x2, y2, x1 = face_loc[0], face_loc[1], face_loc[2], face_loc[3]\n",
        "        cv2.putText(frame1, name, (x1, y1-10), cv2.FONT_HERSHEY_SIMPLEX, 1, (0, 0, 200), 2)\n",
        "        cv2.rectangle(frame1, (x1, y1), (x2, y2), (0, 0, 200), 2)\n",
        "\n",
        "    for face_loc, name in zip(face_locations2, face_names2):\n",
        "        y1, x2, y2, x1 = face_loc[0], face_loc[1], face_loc[2], face_loc[3]\n",
        "        cv2.putText(frame2, name, (x1, y1-10), cv2.FONT_HERSHEY_SIMPLEX, 1, (0, 0, 200), 2)\n",
        "        cv2.rectangle(frame2, (x1, y1), (x2, y2), (0, 0, 200), 2)\n",
        "\n",
        "    cv2.imshow(\"Camera 1\", frame1)\n",
        "    cv2.imshow(\"Camera 2\", frame2)\n",
        "\n",
        "    key = cv2.waitKey(1)\n",
        "    if key == 27:\n",
        "        break\n",
        "cap1.release()\n",
        "cap2.release()\n",
        "\n",
        "cv2.destroyAllWindows()\n"
      ]
    },
    {
      "cell_type": "code",
      "execution_count": null,
      "id": "3c98c830",
      "metadata": {
        "id": "3c98c830",
        "outputId": "d6a0c23b-c47b-4843-cda8-519fbc669387"
      },
      "outputs": [
        {
          "name": "stdout",
          "output_type": "stream",
          "text": [
            "13 encoding images found.\n",
            "Encoding images loaded\n"
          ]
        }
      ],
      "source": [
        "import cv2\n",
        "import face_recognition\n",
        "import os\n",
        "import glob\n",
        "import numpy as np\n",
        "import csv\n",
        "import datetime\n",
        "\n",
        "class SimpleFacerec:\n",
        "    def __init__(self):\n",
        "        self.known_face_encodings = []\n",
        "        self.known_face_names = []\n",
        "\n",
        "        # Resize frame for a faster speed\n",
        "        self.frame_resizing = 0.75\n",
        "\n",
        "    def load_encoding_images(self, images_path):\n",
        "        # Load Images\n",
        "        images_path = glob.glob(os.path.join(images_path, \"*.*\"))\n",
        "\n",
        "        print(\"{} encoding images found.\".format(len(images_path)))\n",
        "\n",
        "        # Store image encoding and names\n",
        "        for img_path in images_path:\n",
        "            img = cv2.imread(img_path)\n",
        "            rgb_img = cv2.cvtColor(img, cv2.COLOR_BGR2RGB)\n",
        "\n",
        "            # Get the filename only from the initial file path.\n",
        "            basename = os.path.basename(img_path)\n",
        "            (filename, ext) = os.path.splitext(basename)\n",
        "            # Get encoding\n",
        "            img_encoding = face_recognition.face_encodings(rgb_img)[0]\n",
        "\n",
        "            # Store file name and file encoding\n",
        "            self.known_face_encodings.append(img_encoding)\n",
        "            self.known_face_names.append(filename)\n",
        "        print(\"Encoding images loaded\")\n",
        "\n",
        "    def detect_known_faces(self, frame):\n",
        "        small_frame = cv2.resize(frame, (0, 0), fx=self.frame_resizing, fy=self.frame_resizing)\n",
        "        # Find all the faces and face encodings in the current frame of video\n",
        "        # Convert the image from BGR color (which OpenCV uses) to RGB color (which face_recognition uses)\n",
        "        rgb_small_frame = cv2.cvtColor(small_frame, cv2.COLOR_BGR2RGB)\n",
        "        face_locations = face_recognition.face_locations(rgb_small_frame)\n",
        "        face_encodings = face_recognition.face_encodings(rgb_small_frame, face_locations)\n",
        "\n",
        "        face_names = []\n",
        "        for face_encoding in face_encodings:\n",
        "            # See if the face is a match for the known face(s)\n",
        "            matches = face_recognition.compare_faces(self.known_face_encodings, face_encoding)\n",
        "            name = \"Unknown\"\n",
        "\n",
        "            # Or instead, use the known face with the smallest distance to the new face\n",
        "            face_distances = face_recognition.face_distance(self.known_face_encodings, face_encoding)\n",
        "            best_match_index = np.argmin(face_distances)\n",
        "            if matches[best_match_index]:\n",
        "                name = self.known_face_names[best_match_index]\n",
        "            face_names.append(name)\n",
        "\n",
        "        # Convert to numpy array to adjust coordinates with frame resizing quickly\n",
        "        face_locations = np.array(face_locations)\n",
        "        face_locations = face_locations / self.frame_resizing\n",
        "        return face_locations.astype(int), face_names\n",
        "\n",
        "# Create an instance of SimpleFacerec\n",
        "sfr = SimpleFacerec()\n",
        "sfr.load_encoding_images(\"C:/Users/RITHANYA/OneDrive/Desktop/SPARK/images\")\n",
        "\n",
        "cap1 = cv2.VideoCapture(\"C:/Users/RITHANYA/OneDrive/Desktop/SPARK/final.mp4\")  # Update with actual path\n",
        "cap2 = cv2.VideoCapture(\"C:/Users/RITHANYA/OneDrive/Desktop/SPARK/camera2.mp4\")  # Update with actual path\n",
        "\n",
        "if not cap1.isOpened() or not cap2.isOpened():\n",
        "    print(\"Error opening video files.\")\n",
        "    exit()\n",
        "\n",
        "# Initialize the CSV file and write headers\n",
        "csv_filename = \"detected_faces.csv\"\n",
        "with open(csv_filename, \"w\", newline=\"\") as csvfile:\n",
        "    csv_writer = csv.writer(csvfile)\n",
        "    csv_writer.writerow([\"Timestamp\", \"Name\", \"Camera\"])\n",
        "\n",
        "while True:\n",
        "    ret1, frame1 = cap1.read()\n",
        "    ret2, frame2 = cap2.read()\n",
        "\n",
        "    if not ret1 or not ret2:\n",
        "        if cap1.isOpened() and cap2.isOpened():\n",
        "            print(\"Error reading frames.\")\n",
        "        else:\n",
        "            print(\"End of videos.\")\n",
        "        break\n",
        "\n",
        "    face_locations1, face_names1 = sfr.detect_known_faces(frame1)\n",
        "    face_locations2, face_names2 = sfr.detect_known_faces(frame2)\n",
        "\n",
        "    # Get the current timestamp\n",
        "    current_timestamp = datetime.datetime.now().strftime(\"%Y-%m-%d %H:%M:%S\")\n",
        "\n",
        "    with open(csv_filename, \"a\", newline=\"\") as csvfile:\n",
        "        csv_writer = csv.writer(csvfile)\n",
        "        for name in face_names1:\n",
        "            csv_writer.writerow([current_timestamp, name, \"camera1\"])\n",
        "        for name in face_names2:\n",
        "            csv_writer.writerow([current_timestamp, name, \"camera2\"])\n",
        "\n",
        "    for face_loc, name in zip(face_locations1, face_names1):\n",
        "        y1, x2, y2, x1 = face_loc[0], face_loc[1], face_loc[2], face_loc[3]\n",
        "\n",
        "        # Display name and timestamp\n",
        "        text = f\"{name} ({current_timestamp})\"\n",
        "\n",
        "        cv2.putText(frame1, text, (x1, y1-10), cv2.FONT_HERSHEY_SIMPLEX, 1, (0, 0, 200), 2)\n",
        "        cv2.rectangle(frame1, (x1, y1), (x2, y2), (0, 0, 200), 2)\n",
        "\n",
        "    for face_loc, name in zip(face_locations2, face_names2):\n",
        "        y1, x2, y2, x1 = face_loc[0], face_loc[1], face_loc[2], face_loc[3]\n",
        "\n",
        "        # Display name and timestamp\n",
        "        text = f\"{name} ({current_timestamp})\"\n",
        "\n",
        "        cv2.putText(frame2, text, (x1, y1-10), cv2.FONT_HERSHEY_SIMPLEX, 1, (0, 0, 200), 2)\n",
        "        cv2.rectangle(frame2, (x1, y1), (x2, y2), (0, 0, 200), 2)\n",
        "\n",
        "    cv2.imshow(\"Camera 1\", frame1)\n",
        "    cv2.imshow(\"Camera 2\", frame2)\n",
        "\n",
        "    key = cv2.waitKey(1)\n",
        "    if key == 27:\n",
        "        break\n",
        "\n",
        "cap1.release()\n",
        "cap2.release()\n",
        "\n",
        "cv2.destroyAllWindows()\n"
      ]
    },
    {
      "cell_type": "code",
      "execution_count": null,
      "id": "84151559",
      "metadata": {
        "id": "84151559"
      },
      "outputs": [],
      "source": []
    }
  ],
  "metadata": {
    "kernelspec": {
      "display_name": "Python 3 (ipykernel)",
      "language": "python",
      "name": "python3"
    },
    "language_info": {
      "codemirror_mode": {
        "name": "ipython",
        "version": 3
      },
      "file_extension": ".py",
      "mimetype": "text/x-python",
      "name": "python",
      "nbconvert_exporter": "python",
      "pygments_lexer": "ipython3",
      "version": "3.9.13"
    },
    "colab": {
      "provenance": [],
      "include_colab_link": true
    }
  },
  "nbformat": 4,
  "nbformat_minor": 5
}